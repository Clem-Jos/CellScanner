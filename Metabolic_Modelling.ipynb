{
  "nbformat": 4,
  "nbformat_minor": 0,
  "metadata": {
    "colab": {
      "name": "Metabolic Modelling.ipynb",
      "provenance": [],
      "collapsed_sections": [
        "vRN-UaSOvyVx",
        "ItiyKASQv2D9",
        "0OkjFbA7wTMd"
      ],
      "authorship_tag": "ABX9TyOLLnTkK2HU7CXivbyL7uix",
      "include_colab_link": true
    },
    "kernelspec": {
      "name": "python3",
      "display_name": "Python 3"
    },
    "language_info": {
      "name": "python"
    }
  },
  "cells": [
    {
      "cell_type": "markdown",
      "metadata": {
        "id": "view-in-github",
        "colab_type": "text"
      },
      "source": [
        "<a href=\"https://colab.research.google.com/github/Clem-Jos/CellScanner/blob/main/Metabolic_Modelling.ipynb\" target=\"_parent\"><img src=\"https://colab.research.google.com/assets/colab-badge.svg\" alt=\"Open In Colab\"/></a>"
      ]
    },
    {
      "cell_type": "markdown",
      "source": [
        "## **TD PART I:** ##\n",
        "Answer the following question with Escher application:\n",
        "# A- Observation\n",
        "\n",
        "1- Go to the web page: https://escher.github.io/#/\n",
        "\n",
        "2- Open « Escher-FBA interactive, web-based flux balance analysis »\n",
        "\n",
        "This page contains the instruction to use Escher FBA, you can always read this page. We will use the different options on the next page.\n",
        "\n",
        "3- Launch Esccher-FBA"
      ],
      "metadata": {
        "id": "swgC31_ztY2x"
      }
    },
    {
      "cell_type": "markdown",
      "source": [
        "4- Can you describe what you see? Wose map is it?"
      ],
      "metadata": {
        "id": "u02IyhPGvYNT"
      }
    },
    {
      "cell_type": "markdown",
      "source": [
        "**"
      ],
      "metadata": {
        "id": "cJJ5QTuHwB2D"
      }
    },
    {
      "cell_type": "markdown",
      "source": [
        "5- What is the objective function here? What does 0.874 mean?"
      ],
      "metadata": {
        "id": "fUvyEp7_wCTe"
      }
    },
    {
      "cell_type": "markdown",
      "source": [
        "**"
      ],
      "metadata": {
        "id": "YpxgnmJ3wG8y"
      }
    },
    {
      "cell_type": "markdown",
      "source": [
        "6- We describe different types of reactions. Transport, metabolic and biomass reaction are internal reactions. Exchange, demand and sink reactions are external reactions. Could you identify one reaction from the present types?"
      ],
      "metadata": {
        "id": "K2Z8vUVNwJnQ"
      }
    },
    {
      "cell_type": "markdown",
      "source": [
        "**"
      ],
      "metadata": {
        "id": "LuxG5oIZwRYS"
      }
    },
    {
      "cell_type": "markdown",
      "source": [
        "7- Which metabolites are consumed by the model?"
      ],
      "metadata": {
        "id": "g4rY0_DqwN7W"
      }
    },
    {
      "cell_type": "markdown",
      "source": [
        "**"
      ],
      "metadata": {
        "id": "BP2fRzClwSZc"
      }
    },
    {
      "cell_type": "markdown",
      "source": [
        "# B- First modifications\n",
        "Click reset between each step to come back to the initial state.\n",
        "\n",
        "### **Case 1:**\n",
        "You want to know if E. coli can grow without oxygen. What is your conclusion? Compare the result with the previous one.\n"
      ],
      "metadata": {
        "id": "C75r8-cmwa6d"
      }
    },
    {
      "cell_type": "markdown",
      "source": [
        "### **Case 2:**\n",
        "\n",
        "You want to know if there is a better carbon source for E. coli than glucose. Between these compounds:\n",
        "- Fructose\n",
        "- Formate\n",
        "- Ethanol\n",
        "\n",
        "Can you change the bound of carbon sources (lb = -10)? Write down the objective function flux for each and conclude."
      ],
      "metadata": {
        "id": "ELrGNkLSwpwe"
      }
    },
    {
      "cell_type": "markdown",
      "source": [
        ""
      ],
      "metadata": {
        "id": "A7f3OFfhwu0Q"
      }
    },
    {
      "cell_type": "markdown",
      "source": [
        "### **Case 3:**\n",
        "\n",
        "You want to produce a maximum of formate from an E. coli strain (you need to change the objective function). We want at least a biomass flux value of 0.305 (lb = 0.305). what do you think of this result?\n",
        "\n",
        "What do you think of the result you obtain are we sure the model will produce the formate?\n",
        "\n",
        "What can you conclude about the limit of genome-scale metabolic models and especially the flux balance analysis?"
      ],
      "metadata": {
        "id": "JeqmzM5JwvE0"
      }
    },
    {
      "cell_type": "markdown",
      "metadata": {
        "id": "1OV9LUG-Om6_"
      },
      "source": [
        "## **TD PART II :**\n",
        "STUDY OF THE STRUCTURE OF A GENOME SCALE METABOLIC MODEL\n",
        "\n",
        "From the given function and the information you got about the cobra language,\n",
        "try to answer the following questions.\n",
        "\n",
        "files: functions.txt, metabolic_models.pptx\n",
        "\n",
        "model : study_model.xml\n",
        "\n",
        "model2 : *you can chose*\n",
        "\n",
        "For a better understanding, you can also open the file functions.py to see how some function are built.\n",
        "During this tutorial you will use object oriented-language.\n",
        "\n",
        "#Part A"
      ]
    },
    {
      "cell_type": "markdown",
      "metadata": {
        "id": "jsAucLSiNm7Q"
      },
      "source": [
        "**0-Installation**:"
      ]
    },
    {
      "cell_type": "code",
      "metadata": {
        "id": "UwuT3qhDTx9E"
      },
      "source": [
        "from google.colab import drive\n",
        "drive.mount('/content/drive')"
      ],
      "execution_count": null,
      "outputs": []
    },
    {
      "cell_type": "code",
      "metadata": {
        "id": "Lnmwiw6pNUd1"
      },
      "source": [
        "!pip install cobra[all]"
      ],
      "execution_count": null,
      "outputs": []
    },
    {
      "cell_type": "markdown",
      "source": [
        "Import the functions.py and the future model file in your directory shown on you left pannel."
      ],
      "metadata": {
        "id": "6K0kK_qvxcKh"
      }
    },
    {
      "cell_type": "code",
      "metadata": {
        "id": "sk4EWsYxUoMq"
      },
      "source": [
        "import functions"
      ],
      "execution_count": null,
      "outputs": []
    },
    {
      "cell_type": "markdown",
      "metadata": {
        "id": "ED8i-9ShQnzh"
      },
      "source": [
        "**1- Load needed module from functions import:**"
      ]
    },
    {
      "cell_type": "code",
      "metadata": {
        "id": "DAYBhNTdQnHP"
      },
      "source": [
        ""
      ],
      "execution_count": null,
      "outputs": []
    },
    {
      "cell_type": "markdown",
      "metadata": {
        "id": "IDjbMg57Qx4U"
      },
      "source": [
        "**2- Load the study_model**"
      ]
    },
    {
      "cell_type": "code",
      "metadata": {
        "id": "2B6DUV5SQyw5"
      },
      "source": [
        ""
      ],
      "execution_count": null,
      "outputs": []
    },
    {
      "cell_type": "markdown",
      "metadata": {
        "id": "oOEWhoUqQz_s"
      },
      "source": [
        "**3- How many metabolites?**"
      ]
    },
    {
      "cell_type": "code",
      "metadata": {
        "id": "t68LhDsoQ0Nm"
      },
      "source": [
        ""
      ],
      "execution_count": null,
      "outputs": []
    },
    {
      "cell_type": "markdown",
      "metadata": {
        "id": "zgM7L0uaQzIl"
      },
      "source": [
        "**4- How many reactions?**"
      ]
    },
    {
      "cell_type": "code",
      "metadata": {
        "id": "pKOmkWAOQzqv"
      },
      "source": [
        ""
      ],
      "execution_count": null,
      "outputs": []
    },
    {
      "cell_type": "markdown",
      "metadata": {
        "id": "alzgxRKlRx0Q"
      },
      "source": [
        "**5- How many genes**"
      ]
    },
    {
      "cell_type": "code",
      "metadata": {
        "id": "KtfucifuTIiE"
      },
      "source": [
        ""
      ],
      "execution_count": null,
      "outputs": []
    },
    {
      "cell_type": "markdown",
      "metadata": {
        "id": "HTBrlWBZRxtK"
      },
      "source": [
        "**6- Which compartments?**"
      ]
    },
    {
      "cell_type": "code",
      "metadata": {
        "id": "BzPFb22xTJ9C"
      },
      "source": [
        ""
      ],
      "execution_count": null,
      "outputs": []
    },
    {
      "cell_type": "markdown",
      "metadata": {
        "id": "-rzc-zq4Rxl5"
      },
      "source": [
        "**7- Print the stoichiometric matrix**"
      ]
    },
    {
      "cell_type": "code",
      "metadata": {
        "id": "hdG0ObyjTLbG"
      },
      "source": [
        ""
      ],
      "execution_count": null,
      "outputs": []
    },
    {
      "cell_type": "markdown",
      "metadata": {
        "id": "VeT83qoQRxeQ"
      },
      "source": [
        "**8- From the stoichiometric matrix, draw the model**"
      ]
    },
    {
      "cell_type": "code",
      "metadata": {
        "id": "kSShr2-7TL1p"
      },
      "source": [
        ""
      ],
      "execution_count": null,
      "outputs": []
    },
    {
      "cell_type": "markdown",
      "metadata": {
        "id": "0_ISUZ0aRxVl"
      },
      "source": [
        "**9- Identify the external, transport, sink, demand, biomass reactions manually and via a command line.**"
      ]
    },
    {
      "cell_type": "code",
      "metadata": {
        "id": "y3DoLVNDRwx0"
      },
      "source": [
        ""
      ],
      "execution_count": null,
      "outputs": []
    },
    {
      "cell_type": "markdown",
      "metadata": {
        "id": "HiU5IWGlRxDI"
      },
      "source": [
        "**10- Select a reaction. Print information about it. It is a reversible reaction? Print bounds of the reaction.**"
      ]
    },
    {
      "cell_type": "code",
      "metadata": {
        "id": "k_0a3ghIShng"
      },
      "source": [
        ""
      ],
      "execution_count": null,
      "outputs": []
    },
    {
      "cell_type": "markdown",
      "metadata": {
        "id": "7Fj9KHsnSioj"
      },
      "source": [
        "**11- Print a metabolite formula, name. Print reactions which involve specific metabolite (and if possible the reaction associated).**"
      ]
    },
    {
      "cell_type": "code",
      "metadata": {
        "id": "RQY7sOuXTMoi"
      },
      "source": [
        ""
      ],
      "execution_count": null,
      "outputs": []
    },
    {
      "cell_type": "markdown",
      "metadata": {
        "id": "o3zkzOp_Sid0"
      },
      "source": [
        "**12- What is the objective function? Can you show the objective coefficient for each reactions?**"
      ]
    },
    {
      "cell_type": "code",
      "metadata": {
        "id": "U3G59nsFTNOr"
      },
      "source": [
        ""
      ],
      "execution_count": null,
      "outputs": []
    },
    {
      "cell_type": "markdown",
      "metadata": {
        "id": "cPMgjJEGSiQo"
      },
      "source": [
        "#Part B: Answer the same question with a model of your taste on Bigg Models\n",
        "Restart the same functions with another model from http://bigg.ucsd.edu/models \n",
        "(Don't try the question 8 you will not make it in time!)"
      ]
    },
    {
      "cell_type": "markdown",
      "metadata": {
        "id": "vRN-UaSOvyVx"
      },
      "source": [
        "## **TD PART III** ##\n",
        "ANALYSIS AND HYPOTHESIS WITH A GENOMES-CALE METABOLIC MODEL\n",
        "\n",
        "From the given functions, the information you got about the cobra language,\n",
        "and the result of previous TD part, try to answer the following questions.\n",
        "files: practical_metabolic_model.pdf\n",
        "model : e_coli_core.xml; other to download\n",
        "\n",
        "For a better understanding, you can also open the file functions.py to see how functions are built.\n",
        "During this tutorial you will use object oriented language.\n"
      ]
    },
    {
      "cell_type": "markdown",
      "source": [
        "#PART A: E.coli analysis with Cobra\n",
        "1- load module"
      ],
      "metadata": {
        "id": "xy6R0d2ouLOZ"
      }
    },
    {
      "cell_type": "code",
      "source": [
        "from functions import *"
      ],
      "metadata": {
        "id": "MVu-cMImuHWt"
      },
      "execution_count": null,
      "outputs": []
    },
    {
      "cell_type": "markdown",
      "source": [
        "2- Download and import E.coli"
      ],
      "metadata": {
        "id": "dPyhvfjtuK-S"
      }
    },
    {
      "cell_type": "code",
      "source": [
        ""
      ],
      "metadata": {
        "id": "9wwvVqiYuK0m"
      },
      "execution_count": null,
      "outputs": []
    },
    {
      "cell_type": "markdown",
      "source": [
        "3- Print information about the model"
      ],
      "metadata": {
        "id": "spYMMbuiuKtN"
      }
    },
    {
      "cell_type": "code",
      "source": [
        ""
      ],
      "metadata": {
        "id": "-uujiPr4uKlY"
      },
      "execution_count": null,
      "outputs": []
    },
    {
      "cell_type": "markdown",
      "source": [
        "4- Launch the flux balance analysis without changing any parameter:\n"
      ],
      "metadata": {
        "id": "bYCRr4FvuKdi"
      }
    },
    {
      "cell_type": "code",
      "source": [
        ""
      ],
      "metadata": {
        "id": "Bb5IcQOcuKVe"
      },
      "execution_count": null,
      "outputs": []
    },
    {
      "cell_type": "markdown",
      "source": [
        "5- Print the objective value. Was it what you expected? "
      ],
      "metadata": {
        "id": "4yA90iBJuKN0"
      }
    },
    {
      "cell_type": "code",
      "source": [
        "\n"
      ],
      "metadata": {
        "id": "iTfGANjWuKFp"
      },
      "execution_count": null,
      "outputs": []
    },
    {
      "cell_type": "markdown",
      "source": [
        "6- Print fluxes. How many reactions are active in this condition?\n"
      ],
      "metadata": {
        "id": "npNhDX4nuJ-2"
      }
    },
    {
      "cell_type": "code",
      "source": [
        ""
      ],
      "metadata": {
        "id": "JY-x-tQPut6n"
      },
      "execution_count": null,
      "outputs": []
    },
    {
      "cell_type": "code",
      "source": [
        ""
      ],
      "metadata": {
        "id": "dm9OMxcxuJ22"
      },
      "execution_count": null,
      "outputs": []
    },
    {
      "cell_type": "markdown",
      "source": [
        "7- From the fluxes, define which metabolites are consumed and produced by the model?\n",
        "\n",
        "Verify your results with the summary function:\n"
      ],
      "metadata": {
        "id": "6bSyQLZNuJvK"
      }
    },
    {
      "cell_type": "code",
      "source": [
        ""
      ],
      "metadata": {
        "id": "OHmFguW1uJnE"
      },
      "execution_count": null,
      "outputs": []
    },
    {
      "cell_type": "markdown",
      "source": [
        ""
      ],
      "metadata": {
        "id": "5E4s6GuhuJeV"
      }
    },
    {
      "cell_type": "code",
      "source": [
        ""
      ],
      "metadata": {
        "id": "LKxfww9IuJWK"
      },
      "execution_count": null,
      "outputs": []
    },
    {
      "cell_type": "markdown",
      "source": [
        "8- print the summary of one of these metabolites  to see how it's produced and consumed:\n"
      ],
      "metadata": {
        "id": "_RQdPgQ0uJNK"
      }
    },
    {
      "cell_type": "code",
      "source": [
        ""
      ],
      "metadata": {
        "id": "b5an3aQDuJD2"
      },
      "execution_count": null,
      "outputs": []
    },
    {
      "cell_type": "markdown",
      "source": [
        ""
      ],
      "metadata": {
        "id": "xJtcvtzluIiw"
      }
    },
    {
      "cell_type": "code",
      "source": [
        ""
      ],
      "metadata": {
        "id": "yH3Jd0yYuISo"
      },
      "execution_count": null,
      "outputs": []
    },
    {
      "cell_type": "markdown",
      "source": [
        "9- Verify if the model can grow without oxygen:\n",
        "\n",
        "*Create a new model to keep initial state*\n"
      ],
      "metadata": {
        "id": "PZGnT8fMuH-T"
      }
    },
    {
      "cell_type": "code",
      "source": [
        ""
      ],
      "metadata": {
        "id": "lDvYJ9X7u3Pg"
      },
      "execution_count": null,
      "outputs": []
    },
    {
      "cell_type": "markdown",
      "source": [
        "*Set upper bound and lower bound*"
      ],
      "metadata": {
        "id": "c2iPC1l8u5XZ"
      }
    },
    {
      "cell_type": "code",
      "source": [
        ""
      ],
      "metadata": {
        "id": "3--Qng53u5QO"
      },
      "execution_count": null,
      "outputs": []
    },
    {
      "cell_type": "markdown",
      "source": [
        "*Launch fba*"
      ],
      "metadata": {
        "id": "0K8vF28Ou5ID"
      }
    },
    {
      "cell_type": "code",
      "source": [
        ""
      ],
      "metadata": {
        "id": "O2N34Ul5u5Ad"
      },
      "execution_count": null,
      "outputs": []
    },
    {
      "cell_type": "markdown",
      "source": [
        "*Conclude*"
      ],
      "metadata": {
        "id": "e92yzSUju446"
      }
    },
    {
      "cell_type": "markdown",
      "source": [
        ""
      ],
      "metadata": {
        "id": "k1enK5LHvK7r"
      }
    },
    {
      "cell_type": "markdown",
      "source": [
        "10- Verify if the model can use other carbon sources : lactate or formate.\n",
        "\n",
        "*Create a copy of the model*"
      ],
      "metadata": {
        "id": "xQ7QyNNSvKc3"
      }
    },
    {
      "cell_type": "code",
      "source": [
        ""
      ],
      "metadata": {
        "id": "7xF2WlKFvJn5"
      },
      "execution_count": null,
      "outputs": []
    },
    {
      "cell_type": "markdown",
      "source": [
        "*Close the model*"
      ],
      "metadata": {
        "id": "vxusWPPKvRIi"
      }
    },
    {
      "cell_type": "code",
      "source": [
        ""
      ],
      "metadata": {
        "id": "H1_Jwb0zu4w2"
      },
      "execution_count": null,
      "outputs": []
    },
    {
      "cell_type": "markdown",
      "source": [
        "*Change bounds to allow entry of the target metabolite and verify that the change is done:*"
      ],
      "metadata": {
        "id": "QRus0Lopu4oj"
      }
    },
    {
      "cell_type": "code",
      "source": [
        ""
      ],
      "metadata": {
        "id": "wMK_SHcju4gB"
      },
      "execution_count": null,
      "outputs": []
    },
    {
      "cell_type": "markdown",
      "source": [
        "11- It is possible to produce acetate and to grow? change the objective function (growth min 0.20):\n"
      ],
      "metadata": {
        "id": "4-huGwpQu4X2"
      }
    },
    {
      "cell_type": "code",
      "source": [
        ""
      ],
      "metadata": {
        "id": "t7LVm0b_u4PT"
      },
      "execution_count": null,
      "outputs": []
    },
    {
      "cell_type": "markdown",
      "source": [
        "#PART B\n",
        "Let's look all of this in an entire model.\n",
        "In biggest model is more difficult to interpret something. Lets see if we can answer to some\n",
        "question using different functions."
      ],
      "metadata": {
        "id": "f2N9xPPJu3ln"
      }
    },
    {
      "cell_type": "markdown",
      "source": [
        "### **CASE 1**\n",
        "You know that you will receive a Saccharomyces cerevisiae strain that you have to grow.\n",
        "You have 3 different media. Which one will you use to be sure that the strain will grow?"
      ],
      "metadata": {
        "id": "ItiyKASQv2D9"
      }
    },
    {
      "cell_type": "code",
      "source": [
        "Medium1 = ['ac_e','ade_e','ala__L_e','arg__L_e','asn__L_e','asp__L_e','ca2_e',\n",
        "           'cit_e','cys_L_e','man_e','gln__L_e','glu__L_e','h2o_e','his__L_e',\n",
        "           'ile__L_e','mg2_e','nad_e','nh4_e','nac_e','pi_e','pro__L_e','ser__L_e',\n",
        "           'so4_e','try__L_e','tyr__L_e','trp__L_e','h2_e','o2_e' ]\n",
        "Medium2 = ['ac_e','ade_e','ala__L_e','arg__L_e','asn__L_e','asp__L_e','ca2_e',\n",
        "           'cit_e','cu2_e','cys_L_e','fe2_e','fe3_e','fru_e','glc__D_e',\n",
        "           'gln__L_e','glu__L_e','h2o_e','his__L_e','ile__L_e','mg2_e','nad_e',\n",
        "           'nh4_e','nac_e','no3_e','pi_e','pro__L_e','ser__L_e','so4_e','try__L_e',\n",
        "           'tyr__L_e','ura_e','val__L_e','trp__L_e','h2_e','o2_e' ]\n",
        "Medium3 = ['4abz_e','ac_e','ace_e','ade_e','ala__L_e','arg__L_e','ascb__L_e','asn__L_e',\n",
        "           'asp__L_e','btn_e','cbl1_e','cit_e','cl_e','cobalt2_e',\n",
        "           'cu2_e','cys_L_e','fe2_e','fe3_e','fol_e','glc__D_e','glu__L_e','gly_e','gthrd_e',\n",
        "           'gua_e','h2o_e','hco3_e','his__L_e','i_e','ile__L_e','inost_e','k_e','leu_L_e','met__L_e','co2_e','no2_e',\n",
        "           'mg2_e','mn2_e','mndn_e','mobd_e','na1_e','nad_e','nh4_e','nac_e','ni2_e',\n",
        "           'no3_e','pi_e','pnto__R_e','pro__L_e','pydam_e','pydxn_e','rezrn_e','ribflv_e',\n",
        "           'ser__L_e','so4_e','thci_e','thm_e','try__L_e','tyr__L_e','ura_e','val__L_e',\n",
        "           'xan_e','zn2_e','h_e','trp__L_e', 'mobd_e','slnt_e', 'tungs_e','lipoate_e',\n",
        "           'pydx_e','o2_e' ]"
      ],
      "metadata": {
        "id": "b8UO2p2Bv1gY"
      },
      "execution_count": null,
      "outputs": []
    },
    {
      "cell_type": "markdown",
      "source": [
        "Download one model from bigg database "
      ],
      "metadata": {
        "id": "ni_pq1GVv2h-"
      }
    },
    {
      "cell_type": "markdown",
      "source": [
        "Verify that the model can grow without changing any parameter:\n"
      ],
      "metadata": {
        "id": "3g1TVvvpwMuZ"
      }
    },
    {
      "cell_type": "code",
      "source": [
        ""
      ],
      "metadata": {
        "id": "frmxTXofv3DK"
      },
      "execution_count": null,
      "outputs": []
    },
    {
      "cell_type": "markdown",
      "source": [
        "Verify how the model can grow in each medium and conclude:\n"
      ],
      "metadata": {
        "id": "eADtjFdKv3iW"
      }
    },
    {
      "cell_type": "code",
      "source": [
        ""
      ],
      "metadata": {
        "id": "XpCtVXXkv4EL"
      },
      "execution_count": null,
      "outputs": []
    },
    {
      "cell_type": "markdown",
      "source": [
        "### **CASE 2**\n",
        "ou work for an agribusiness company specialized in yoghurt production.\n",
        "In, purpose to improve the taste of some product, you want to produce the molecule RR 2 3 Butanediol which gave the \n",
        "butter/creamy taste. Your company wants a biological way to produce this molecule instead of chemical.\n",
        "you have 3 species in your bacteria collection:\n",
        "\n",
        "- Saccharomyces cerevisiae\n",
        "- Lactococcus lactis\n",
        "- Klebsiella pneumoniae\n",
        "\n",
        "Can you tell which species is the most likely to produce this molecule?\n"
      ],
      "metadata": {
        "id": "0OkjFbA7wTMd"
      }
    },
    {
      "cell_type": "markdown",
      "source": [
        "Find molecule id on Bigg database / its exchange reaction associated\n"
      ],
      "metadata": {
        "id": "dQavs0hYwbRd"
      }
    },
    {
      "cell_type": "code",
      "source": [
        ""
      ],
      "metadata": {
        "id": "mMzPIX2YwdgV"
      },
      "execution_count": null,
      "outputs": []
    },
    {
      "cell_type": "markdown",
      "source": [
        "Load the 3 models"
      ],
      "metadata": {
        "id": "jImgFv-uweFv"
      }
    },
    {
      "cell_type": "code",
      "source": [
        ""
      ],
      "metadata": {
        "id": "4wLN4dVSwhjf"
      },
      "execution_count": null,
      "outputs": []
    },
    {
      "cell_type": "markdown",
      "source": [
        " Run following function for 'lactococcus lactis'"
      ],
      "metadata": {
        "id": "AJFrqS4wwmbR"
      }
    },
    {
      "cell_type": "code",
      "source": [
        "%%% = updateLactococcus(%%%)"
      ],
      "metadata": {
        "id": "AoxIJESswlPl"
      },
      "execution_count": null,
      "outputs": []
    },
    {
      "cell_type": "markdown",
      "source": [
        "Verify that models can grow:"
      ],
      "metadata": {
        "id": "8eMzJBoJwsXk"
      }
    },
    {
      "cell_type": "code",
      "source": [
        ""
      ],
      "metadata": {
        "id": "NqBwvElHwtcG"
      },
      "execution_count": null,
      "outputs": []
    },
    {
      "cell_type": "markdown",
      "source": [
        "for each model find biomass function position or name.\n"
      ],
      "metadata": {
        "id": "v77YpMc9wuFs"
      }
    },
    {
      "cell_type": "code",
      "source": [
        ""
      ],
      "metadata": {
        "id": "6arT-WTv1pBP"
      },
      "execution_count": null,
      "outputs": []
    },
    {
      "cell_type": "markdown",
      "source": [
        "> Choice 1:\n",
        " - Update the biomass bound (>0)\n",
        " - Change the objective function\n",
        " - Run FBA"
      ],
      "metadata": {
        "id": "P9WAgL0Y1f_G"
      }
    },
    {
      "cell_type": "code",
      "source": [
        ""
      ],
      "metadata": {
        "id": "MmbnxXEe1pqF"
      },
      "execution_count": null,
      "outputs": []
    },
    {
      "cell_type": "markdown",
      "source": [
        "> Choice 2:\n",
        " - Change the objective function with both reactions\n",
        " - Run FBA"
      ],
      "metadata": {
        "id": "PL21lJvs1fwE"
      }
    },
    {
      "cell_type": "code",
      "source": [
        ""
      ],
      "metadata": {
        "id": "gdZfUtMtxG4T"
      },
      "execution_count": null,
      "outputs": []
    },
    {
      "cell_type": "markdown",
      "source": [
        "What can you conclude?"
      ],
      "metadata": {
        "id": "scb565ybxHV2"
      }
    },
    {
      "cell_type": "markdown",
      "source": [
        ""
      ],
      "metadata": {
        "id": "aZqet2IixLYA"
      }
    },
    {
      "cell_type": "markdown",
      "source": [
        "Did you check if models could spontaneously produce the molecule?\n"
      ],
      "metadata": {
        "id": "5D3e6xC-xL99"
      }
    },
    {
      "cell_type": "code",
      "source": [
        ""
      ],
      "metadata": {
        "id": "JGWhDG-2xNAk"
      },
      "execution_count": null,
      "outputs": []
    },
    {
      "cell_type": "markdown",
      "source": [
        "### **CASE 3**\n",
        "A research lab is working on gut microbial communities and crossfeeding interaction, and found out that,\n",
        "Fecalibacterium prausnitzii needs acetate to grow.  From these different gut species,which one is the most likely\n",
        "to cooperate with Faecalibaterium?\n",
        " - Blautia hydrogenotrophica \n",
        " - Roseburia intestinalis\n",
        "\n",
        "Visit: https://www.vmh.life/ download XML file"
      ],
      "metadata": {
        "id": "h3y5JCsWxOLf"
      }
    },
    {
      "cell_type": "markdown",
      "source": [
        ""
      ],
      "metadata": {
        "id": "lgVBTzsPxWFO"
      }
    },
    {
      "cell_type": "code",
      "source": [
        ""
      ],
      "metadata": {
        "id": "pryHdqytxWiV"
      },
      "execution_count": null,
      "outputs": []
    }
  ]
}